{
  "nbformat": 4,
  "nbformat_minor": 0,
  "metadata": {
    "kernelspec": {
      "display_name": "Python 3",
      "language": "python",
      "name": "python3"
    },
    "language_info": {
      "codemirror_mode": {
        "name": "ipython",
        "version": 3
      },
      "file_extension": ".py",
      "mimetype": "text/x-python",
      "name": "python",
      "nbconvert_exporter": "python",
      "pygments_lexer": "ipython3",
      "version": "3.7.3-final"
    },
    "colab": {
      "name": "TwitterAPIScrapper.ipynb",
      "provenance": [],
      "collapsed_sections": [],
      "include_colab_link": true
    }
  },
  "cells": [
    {
      "cell_type": "markdown",
      "metadata": {
        "id": "view-in-github",
        "colab_type": "text"
      },
      "source": [
        "<a href=\"https://colab.research.google.com/github/Silmar123/News_project/blob/main/TwitterAPIScrapper.ipynb\" target=\"_parent\"><img src=\"https://colab.research.google.com/assets/colab-badge.svg\" alt=\"Open In Colab\"/></a>"
      ]
    },
    {
      "cell_type": "code",
      "metadata": {
        "id": "yhmqagmvo5sJ"
      },
      "source": [
        "# Import of the necessary libraries\n",
        "import tweepy\n",
        "import json\n",
        "import pandas as pd\n",
        "import datetime\n",
        "\n",
        "# http://docs.tweepy.org/en/latest/api.html"
      ],
      "execution_count": 7,
      "outputs": []
    },
    {
      "cell_type": "markdown",
      "metadata": {
        "id": "I7emO6AMo5sM"
      },
      "source": [
        "We read the api keys from our config json file \n",
        "\n",
        "This is done so we do not expose our keys in github"
      ]
    },
    {
      "cell_type": "code",
      "metadata": {
        "id": "YAHkFUhRo5sN"
      },
      "source": [
        "# Values assigning for the authentication methods     \n",
        "consumer_key = \"oeRyEcKV5Ebfu7vPZVvtTs45H\"\n",
        "consumer_secret = \"LNtBLVDspKep0WJ6XI7fceoT81KpSr3u51BefUUu44tOZ6rawT\"\n",
        "access_token = \"1299838566827274242-vPAr4kIzeFfKXtnPc8TjpbFWAi8TVS\"\n",
        "access_token_secret = \"NH4DvtNlS41YCaq0gsOdSOmqw6PWrvMv76oizYWjuxHCj\""
      ],
      "execution_count": 8,
      "outputs": []
    },
    {
      "cell_type": "markdown",
      "metadata": {
        "id": "LtTFGqcyo5sP"
      },
      "source": [
        "Run the authentication methods"
      ]
    },
    {
      "cell_type": "code",
      "metadata": {
        "id": "bLTAVvCKo5sP"
      },
      "source": [
        "def get_api_connection(consumer_key, consumer_secret, access_token, access_token_secret):\n",
        "  # Setting access tokens\n",
        "  auth = tweepy.OAuthHandler(consumer_key, consumer_secret)\n",
        "  auth.set_access_token(access_token, access_token_secret)\n",
        "\n",
        "  # Create the API object from tweepy\n",
        "  api = tweepy.API(auth, wait_on_rate_limit=True)\n",
        "  return api"
      ],
      "execution_count": 9,
      "outputs": []
    },
    {
      "cell_type": "markdown",
      "metadata": {
        "id": "vDWnUTuQo5sR"
      },
      "source": [
        "Define functions to handle tweepy objects easily"
      ]
    },
    {
      "cell_type": "code",
      "metadata": {
        "id": "TZYIrqDfo5sR"
      },
      "source": [
        "# Given a query, it returns a number of tweet objects\n",
        "# We give a default of 100 but any number could be used\n",
        "def get_tweets_from_query(api, query, number_of_tweets_to_get = 100):\n",
        "    return tweepy.Cursor(api.search, q=query).items(number_of_tweets_to_get)  \n",
        "\n",
        "# Given a tweet obj we return its number of retweets\n",
        "def get_rts_from_tweet(api, tweet):\n",
        "    return api.get_status(tweet.id).retweet_count\n",
        "\n",
        "# Given a tweet obj we return its username\n",
        "def get_user_from_tweet(api, tweet):\n",
        "    return api.get_status(tweet.id).user.screen_name\n",
        "\n",
        "# Given a tweet obj we return its likes/favs number\n",
        "def get_likes_from_tweet(api, tweet):\n",
        "    return api.get_status(tweet.id).favorite_count"
      ],
      "execution_count": 10,
      "outputs": []
    },
    {
      "cell_type": "code",
      "metadata": {
        "id": "kpKXKELso5sT"
      },
      "source": [
        "# Class for better analysis with only the needed parameters\n",
        "class Tweet_for_analysis:\n",
        "    text: \"\"\n",
        "    rts: 0\n",
        "    id: 0\n",
        "    user: \"\"\n",
        "    likes: 0\n",
        "    time: datetime.datetime.now\n",
        "\n",
        "    # Constructor\n",
        "    def __init__(self, api, tweetObj):\n",
        "        self.text = tweetObj.text\n",
        "        self.rts =  get_rts_from_tweet(api, tweetObj)\n",
        "        self.id = tweetObj.id\n",
        "        self.user = get_user_from_tweet(api, tweetObj)\n",
        "        self.likes = get_likes_from_tweet(api, tweetObj)\n",
        "        self.time = tweetObj.created_at\n",
        "\n"
      ],
      "execution_count": 11,
      "outputs": []
    },
    {
      "cell_type": "code",
      "metadata": {
        "id": "G3LswnfKo5sV"
      },
      "source": [
        "# # We create an empty list \n",
        "# tweet_list = []\n",
        "\n",
        "# # We get the tweet objects from the query \n",
        "# tom_brady_tweets = get_tweets_from_query(\"Tom Brady\")\n",
        "\n",
        "# # We iterate over the differetn \n",
        "# for tweet in tom_brady_tweets:\n",
        "#     new_tweet = Tweet_for_analysis(tweet)\n",
        "#     tweet_list.append(new_tweet)\n"
      ],
      "execution_count": 12,
      "outputs": []
    },
    {
      "cell_type": "code",
      "metadata": {
        "tags": [],
        "id": "Cm7FuMWco5sX"
      },
      "source": [
        "# df = pd.DataFrame(\n",
        "#     ([tweet.id, tweet.text, tweet.rts, tweet.user, tweet.likes, tweet.time] for tweet in tweet_list), \n",
        "#     columns = [\"tweet_id\",\"text\",\"rt_count\", \"username\", \"likes_count\", \"created_at\"]\n",
        "# )\n",
        "# df.tail()"
      ],
      "execution_count": 13,
      "outputs": []
    },
    {
      "cell_type": "code",
      "metadata": {
        "id": "0QxBxpB9o5sZ"
      },
      "source": [
        "def get_tweet_df_from_query(twitter_consumer_key, \n",
        "                            twitter_consumer_secret, \n",
        "                            twitter_access_token, \n",
        "                            twitter_access_token_secret, \n",
        "                            query, \n",
        "                            n_tweets = 50\n",
        "                            ):\n",
        "  api = get_api_connection(consumer_key,consumer_secret,access_token,access_token_secret)\n",
        "  new_tweet_list = []\n",
        "  tweets_received = get_tweets_from_query(api, query)\n",
        "  for tweet in tweets_received:\n",
        "    new_tweet_to_add = Tweet_for_analysis(api, tweet)\n",
        "    new_tweet_list.append(new_tweet_to_add)\n",
        "  \n",
        "  df = pd.DataFrame(\n",
        "    ([tweet.id, tweet.text, tweet.rts, tweet.user, tweet.likes, tweet.time] for tweet in new_tweet_list), \n",
        "    columns = [\"tweet_id\",\"text\",\"rt_count\", \"username\", \"likes_count\", \"created_at\"]\n",
        "  )\n",
        "\n",
        "  return df"
      ],
      "execution_count": 14,
      "outputs": []
    },
    {
      "cell_type": "code",
      "metadata": {
        "id": "C9NZFaIRpMhB"
      },
      "source": [
        "df_pd = get_tweet_df_from_query(consumer_key,consumer_secret,access_token,access_token_secret,\"david bisbal\")"
      ],
      "execution_count": 15,
      "outputs": []
    },
    {
      "cell_type": "code",
      "metadata": {
        "id": "zlHsaeaJpOKZ",
        "outputId": "6131a491-ffcc-4cd6-ea69-d9830321b901",
        "colab": {
          "base_uri": "https://localhost:8080/",
          "height": 204
        }
      },
      "source": [
        "df_pd.tail()"
      ],
      "execution_count": 16,
      "outputs": [
        {
          "output_type": "execute_result",
          "data": {
            "text/html": [
              "<div>\n",
              "<style scoped>\n",
              "    .dataframe tbody tr th:only-of-type {\n",
              "        vertical-align: middle;\n",
              "    }\n",
              "\n",
              "    .dataframe tbody tr th {\n",
              "        vertical-align: top;\n",
              "    }\n",
              "\n",
              "    .dataframe thead th {\n",
              "        text-align: right;\n",
              "    }\n",
              "</style>\n",
              "<table border=\"1\" class=\"dataframe\">\n",
              "  <thead>\n",
              "    <tr style=\"text-align: right;\">\n",
              "      <th></th>\n",
              "      <th>tweet_id</th>\n",
              "      <th>text</th>\n",
              "      <th>rt_count</th>\n",
              "      <th>username</th>\n",
              "      <th>likes_count</th>\n",
              "      <th>created_at</th>\n",
              "    </tr>\n",
              "  </thead>\n",
              "  <tbody>\n",
              "    <tr>\n",
              "      <th>95</th>\n",
              "      <td>1322854976398438401</td>\n",
              "      <td>Now playing India Martinez - Olvide Respirar f...</td>\n",
              "      <td>0</td>\n",
              "      <td>DESIFOTOLISBOA</td>\n",
              "      <td>0</td>\n",
              "      <td>2020-11-01 10:56:18</td>\n",
              "    </tr>\n",
              "    <tr>\n",
              "      <th>96</th>\n",
              "      <td>1322854826397650944</td>\n",
              "      <td>David Bisbal^TITLE=Bésame^ALBUM=Bésame^YEAR</td>\n",
              "      <td>0</td>\n",
              "      <td>limitefm</td>\n",
              "      <td>0</td>\n",
              "      <td>2020-11-01 10:55:42</td>\n",
              "    </tr>\n",
              "    <tr>\n",
              "      <th>97</th>\n",
              "      <td>1322851001238540288</td>\n",
              "      <td>-Hoy en día ser rebelde es ir en el coche de p...</td>\n",
              "      <td>0</td>\n",
              "      <td>JerezNono</td>\n",
              "      <td>2</td>\n",
              "      <td>2020-11-01 10:40:30</td>\n",
              "    </tr>\n",
              "    <tr>\n",
              "      <th>98</th>\n",
              "      <td>1322848348433469440</td>\n",
              "      <td>Más a gusto que en brazos de David Bisbal: así...</td>\n",
              "      <td>0</td>\n",
              "      <td>cuore</td>\n",
              "      <td>4</td>\n",
              "      <td>2020-11-01 10:29:58</td>\n",
              "    </tr>\n",
              "    <tr>\n",
              "      <th>99</th>\n",
              "      <td>1322834812076515328</td>\n",
              "      <td>Perdón David Bisbal - Greeicy David Bisbal - G...</td>\n",
              "      <td>0</td>\n",
              "      <td>playzradio</td>\n",
              "      <td>0</td>\n",
              "      <td>2020-11-01 09:36:10</td>\n",
              "    </tr>\n",
              "  </tbody>\n",
              "</table>\n",
              "</div>"
            ],
            "text/plain": [
              "               tweet_id  ...          created_at\n",
              "95  1322854976398438401  ... 2020-11-01 10:56:18\n",
              "96  1322854826397650944  ... 2020-11-01 10:55:42\n",
              "97  1322851001238540288  ... 2020-11-01 10:40:30\n",
              "98  1322848348433469440  ... 2020-11-01 10:29:58\n",
              "99  1322834812076515328  ... 2020-11-01 09:36:10\n",
              "\n",
              "[5 rows x 6 columns]"
            ]
          },
          "metadata": {
            "tags": []
          },
          "execution_count": 16
        }
      ]
    },
    {
      "cell_type": "markdown",
      "metadata": {
        "id": "a_m68Ad-pPmM"
      },
      "source": [
        "Save data"
      ]
    },
    {
      "cell_type": "code",
      "metadata": {
        "id": "NkOr9tuwpRI5"
      },
      "source": [
        "#Create an appropiate folder\n",
        "\n",
        "hora_madrid_delta = 2\n",
        "\n",
        "anadir_hora = datetime.timedelta(hours = hora_madrid_delta)\n",
        "\n",
        "now = datetime.datetime.now()\n",
        "now = now+anadir_hora#local time\n",
        "now= now.strftime(\"%d_%m_%Y__%Hh_%Mm_%Ss\")\n",
        "now_hour=now[:15]\n",
        "\n",
        "\n",
        "import os\n",
        "\n",
        "path = \"/content/drive/My Drive/Colab Notebooks/UOC_B/twitter_tweets_\"+str(now_hour)\n",
        "\n",
        "if not os.path.exists(path):\n",
        "    os.makedirs(path)\n",
        "\n",
        "#Write dataframe to csv\n",
        "df_pd.to_csv(path+\"/twitter_tweets_\"+str(now)+\".csv\", index = False)"
      ],
      "execution_count": 17,
      "outputs": []
    }
  ]
}